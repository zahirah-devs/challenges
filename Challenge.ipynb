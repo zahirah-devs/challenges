{
 "cells": [
  {
   "cell_type": "code",
   "execution_count": 37,
   "id": "98d4a227",
   "metadata": {},
   "outputs": [],
   "source": [
    "import pandas as pd\n",
    "import numpy as np"
   ]
  },
  {
   "cell_type": "code",
   "execution_count": 2,
   "id": "513eab73",
   "metadata": {},
   "outputs": [],
   "source": [
    "lowerGround = pd.read_csv(\"September 2021 - Lower Ground Floor.csv\")"
   ]
  },
  {
   "cell_type": "code",
   "execution_count": 3,
   "id": "511e893f",
   "metadata": {},
   "outputs": [],
   "source": [
    "thirdFloor = pd.read_csv(\"September 2021 - Third Floor.csv\")"
   ]
  },
  {
   "cell_type": "code",
   "execution_count": 29,
   "id": "f813bfba",
   "metadata": {},
   "outputs": [],
   "source": [
    "# created method to remove all rows that contained 'hearbeat signal' as it had to be ignored\n",
    "def removeHearbeat(df):\n",
    "    df2 = df[df['Data']==3].index\n",
    "    df.drop(df2, inplace = True)\n",
    "    return df"
   ]
  },
  {
   "cell_type": "code",
   "execution_count": 74,
   "id": "40fe1505",
   "metadata": {},
   "outputs": [],
   "source": [
    "# created method to make data easier to use \n",
    "def createReableField(df):\n",
    "    df['isMotion'] = np.where(df['Data']== 0, 'no motion', 'motion detected')\n",
    "    df['Readings'] = np.where(df['Reading']!= 'No Event', 'Event','No Event')\n",
    "    return df        \n",
    "     "
   ]
  },
  {
   "cell_type": "code",
   "execution_count": 84,
   "id": "6da7a745",
   "metadata": {},
   "outputs": [],
   "source": [
    "# did this so that I could merge both datasets but still distinguish wht floor the data was from\n",
    "lowerGround['Floor'] = 'Lower Ground'\n",
    "thirdFloor['Floor'] = 'Third'"
   ]
  },
  {
   "cell_type": "code",
   "execution_count": 89,
   "id": "ed8b336f",
   "metadata": {},
   "outputs": [],
   "source": [
    "#merged data\n",
    "newDF = pd.concat([lowerGround, thirdFloor], ignore_index=True, sort=False)"
   ]
  },
  {
   "cell_type": "code",
   "execution_count": 96,
   "id": "573f9573",
   "metadata": {},
   "outputs": [],
   "source": [
    "#created new CSV file with merged data\n",
    "newDF.to_csv(r'cleanedData', encoding='utf-8', index=False)"
   ]
  }
 ],
 "metadata": {
  "kernelspec": {
   "display_name": "Python 3",
   "language": "python",
   "name": "python3"
  },
  "language_info": {
   "codemirror_mode": {
    "name": "ipython",
    "version": 3
   },
   "file_extension": ".py",
   "mimetype": "text/x-python",
   "name": "python",
   "nbconvert_exporter": "python",
   "pygments_lexer": "ipython3",
   "version": "3.8.8"
  }
 },
 "nbformat": 4,
 "nbformat_minor": 5
}
